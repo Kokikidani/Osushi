{
 "cells": [
  {
   "cell_type": "code",
   "execution_count": 24,
   "id": "f4b30fc6-da09-40b3-bfee-199698193a27",
   "metadata": {},
   "outputs": [
    {
     "name": "stdout",
     "output_type": "stream",
     "text": [
      "data_result2023-01-13\n",
      "data_result2023-01-14\n",
      "data_result2023-01-22\n",
      "data_result2023-01-25\n",
      "data_result2023-01-24\n",
      "data_result2023-01-23\n",
      "data_result2023-01-15\n",
      "data_result2023-01-12\n",
      "data_result2023-04-14\n",
      "data_result2023-04-13\n",
      "data_result2023-04-25\n",
      ".DS_Store\n",
      "data_result2023-04-22\n",
      "data_result2023-10-12\n",
      "data_result2023-10-15\n",
      "data_result2023-10-23\n",
      "data_result2023-10-24\n",
      "data_result2023-04-23\n",
      "data_result2023-04-24\n",
      "data_result2023-04-12\n",
      "data_result2023-04-15\n",
      "data_result2023-10-25\n",
      "data_result2023-10-22\n",
      "data_result2023-10-14\n",
      "data_result2023-10-13\n",
      "data_result2023-07-17\n",
      "data_result2023-07-21\n",
      "data_result2023-07-26\n",
      "data_result2023-07-19\n",
      "data_result2023-07-18\n",
      "data_result2023-07-20\n",
      "data_result2023-07-16\n",
      "data_result2023-01-17\n",
      "data_result2023-01-19\n",
      "data_result2023-01-26\n",
      "data_result2023-01-21\n",
      "data_result2023-01-20\n",
      "data_result2023-01-18\n",
      "data_result2023-01-16\n",
      "data_result2023-10-16\n",
      "data_result2023-10-18\n",
      "data_result2023-10-20\n",
      "data_result2023-04-17\n",
      "data_result2023-04-21\n",
      "data_result2023-04-19\n",
      "data_result2023-04-26\n",
      "data_result2023-10-21\n",
      "data_result2023-10-26\n",
      "data_result2023-10-19\n",
      "data_result2023-10-17\n",
      "data_result2023-04-18\n",
      "data_result2023-04-20\n",
      "data_result2023-04-16\n",
      "data_result2023-07-14\n",
      "data_result2023-07-13\n",
      "data_result2023-07-25\n",
      "data_result2023-07-22\n",
      "data_result2023-07-23\n",
      "data_result2023-07-24\n",
      "data_result2023-07-12\n",
      "data_result2023-07-15\n",
      "61\n"
     ]
    }
   ],
   "source": [
    "import os\n",
    "\n",
    "csv_dirs = os.listdir('/Users/ryoyajindo/daijikken/data_result') #date_resultの中身のフォルダたちをリスト化してcsv_dirsに格納\n",
    "for i in range(len(csv_dirs)):\n",
    "    print(csv_dirs[i])\n",
    "print(len(csv_dirs))"
   ]
  },
  {
   "cell_type": "code",
   "execution_count": 32,
   "id": "d2f45e09-9f13-4535-b70b-1fc2e96f0f7d",
   "metadata": {},
   "outputs": [
    {
     "ename": "SyntaxError",
     "evalue": "invalid syntax. Perhaps you forgot a comma? (1513643813.py, line 6)",
     "output_type": "error",
     "traceback": [
      "\u001b[0;36m  Cell \u001b[0;32mIn[32], line 6\u001b[0;36m\u001b[0m\n\u001b[0;31m    csv_files[i] = os.listdir('/Users/ryoyajindo/daijikken/data_result/+str(csv_dir[i]),engine='python'')\u001b[0m\n\u001b[0m                              ^\u001b[0m\n\u001b[0;31mSyntaxError\u001b[0m\u001b[0;31m:\u001b[0m invalid syntax. Perhaps you forgot a comma?\n"
     ]
    }
   ],
   "source": [
    "import os\n",
    "\n",
    "csv_dirs = os.listdir('/Users/ryoyajindo/daijikken/data_result') #date_resultの中身のフォルダたちをリスト化してcsv_dirsに格納\n",
    "print(csv_dirs[0])\n",
    "for i in range(len(csv_dirs)): #data_resultの中のそれぞれのフォルダで中身のファイルをリスト化してcsv_filesに格納\n",
    "    csv_files[i] = os.listdir('/Users/ryoyajindo/daijikken/data_result/str(csv_dir[i]),engine='python'')\n"
   ]
  },
  {
   "cell_type": "code",
   "execution_count": 2,
   "id": "7b444614-d316-4695-b017-99bda35622e1",
   "metadata": {},
   "outputs": [
    {
     "name": "stdout",
     "output_type": "stream",
     "text": [
      "data_result2023-01-13\n",
      "273ad736a08d7940ba94326cef6c22cb26ba8f18_data.csv\n",
      "084998a9326100d3d5994d8e02fa37374689d8a7_data.csv\n",
      "a31a12a306a542bbc02d155b4dc4890e2eae7863_data.csv\n",
      "9aaa307e6dcc841e31037a47c722a871c907c1b8_data.csv\n",
      "32223c310a442401536095abc3a1f773c07d66e8_data.csv\n",
      "d27b12fc4948ecc343f9d45664929e7cf7a8a744_data.csv\n",
      "abbcba3e6226943aea179edfb5e62cec6b7ca794_data.csv\n",
      "0b882bb7e057b995002ccec11ce2f8d516efb61b_data.csv\n",
      "c1908be8b35ac316478eb60eaf6df173fb45b7b4_data.csv\n",
      "4e29d5ec33261afe328e0eae14ede6b7f047e0f9_data.csv\n",
      "920297940b781641a23df3d8d77c0049c13096e1_data.csv\n",
      "aa730a11758726445fd4f7147a163ae092b235f1_data.csv\n",
      "7188dd982bea6878239de08a3ff0b08f8defb515_data.csv\n",
      "f5a10df74123f09e1e3c6df64b005ce92bf35070_data.csv\n",
      "52e938f62fc332606869ce3ac06bf03be350705a_data.csv\n",
      "01f2182db70a1468873be493bd4b477373f37211_data.csv\n",
      "05a10eb59933157bd62672f920770db0d8c79650_data.csv\n",
      "604dfdb7d3c39922aca4df3309225fb26ed4b4de_data.csv\n",
      "d2778903e26208c254f38e1c8d53ee7b734f85c4_data.csv\n",
      "4273bf7cb96541aa5e399faef19a1ea71829f252_data.csv\n",
      "525ce8eb50f15ba8f56647213cc7cb870741e37f_data.csv\n",
      "2cd9b1fc0db1a8363fd2a828ea1bfe10c7257410_data.csv\n"
     ]
    },
    {
     "ename": "NotADirectoryError",
     "evalue": "[Errno 20] Not a directory: '/Users/ryoyajindo/daijikken/data_result/.DS_Store'",
     "output_type": "error",
     "traceback": [
      "\u001b[0;31m---------------------------------------------------------------------------\u001b[0m",
      "\u001b[0;31mNotADirectoryError\u001b[0m                        Traceback (most recent call last)",
      "Cell \u001b[0;32mIn[2], line 8\u001b[0m\n\u001b[1;32m      6\u001b[0m \u001b[38;5;28;01mfor\u001b[39;00m csv_dir \u001b[38;5;129;01min\u001b[39;00m csv_dirs:\n\u001b[1;32m      7\u001b[0m     folder_path \u001b[38;5;241m=\u001b[39m \u001b[38;5;124m'\u001b[39m\u001b[38;5;124m/Users/ryoyajindo/daijikken/data_result/\u001b[39m\u001b[38;5;124m'\u001b[39m \u001b[38;5;241m+\u001b[39m csv_dir\n\u001b[0;32m----> 8\u001b[0m     csv_files \u001b[38;5;241m=\u001b[39m os\u001b[38;5;241m.\u001b[39mlistdir(folder_path)\n\u001b[1;32m      9\u001b[0m     \u001b[38;5;28mprint\u001b[39m(csv_files[\u001b[38;5;241m0\u001b[39m])  \u001b[38;5;66;03m# Or perform operations with the obtained files\u001b[39;00m\n\u001b[1;32m     10\u001b[0m     \u001b[38;5;28mprint\u001b[39m(csv_files[\u001b[38;5;241m3\u001b[39m])\n",
      "\u001b[0;31mNotADirectoryError\u001b[0m: [Errno 20] Not a directory: '/Users/ryoyajindo/daijikken/data_result/.DS_Store'"
     ]
    }
   ],
   "source": [
    "import os\n",
    "\n",
    "csv_dirs = os.listdir('/Users/ryoyajindo/daijikken/data_result')\n",
    "print(csv_dirs[0])\n",
    "\n",
    "for csv_dir in csv_dirs:\n",
    "    folder_path = '/Users/ryoyajindo/daijikken/data_result/' + csv_dir\n",
    "    csv_files = os.listdir(folder_path)\n",
    "    print(csv_files[0])  # Or perform operations with the obtained files\n",
    "    print(csv_files[3])"
   ]
  },
  {
   "cell_type": "code",
   "execution_count": null,
   "id": "4cc0a218-f41c-45ff-9d86-475849e3c071",
   "metadata": {},
   "outputs": [],
   "source": []
  }
 ],
 "metadata": {
  "kernelspec": {
   "display_name": "Python 3 (ipykernel)",
   "language": "python",
   "name": "python3"
  },
  "language_info": {
   "codemirror_mode": {
    "name": "ipython",
    "version": 3
   },
   "file_extension": ".py",
   "mimetype": "text/x-python",
   "name": "python",
   "nbconvert_exporter": "python",
   "pygments_lexer": "ipython3",
   "version": "3.11.6"
  }
 },
 "nbformat": 4,
 "nbformat_minor": 5
}

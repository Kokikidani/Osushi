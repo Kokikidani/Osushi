import os

csv_dirs = os.listdir('/Users/ryoyajindo/daijikken/data_result') #date_resultの中身のフォルダたちをリスト化してcsv_dirsに格納
for i in range(len(csv_dirs)):
    print(csv_dirs[i])
print(len(csv_dirs))


import os

csv_dirs = os.listdir('/Users/ryoyajindo/daijikken/data_result') #date_resultの中身のフォルダたちをリスト化してcsv_dirsに格納
print(csv_dirs[0])
for i in range(len(csv_dirs)): #data_resultの中のそれぞれのフォルダで中身のファイルをリスト化してcsv_filesに格納
    csv_files[i] = os.listdir('/Users/ryoyajindo/daijikken/data_result/str(csv_dir[i]),engine='python'')



import os

csv_dirs = os.listdir('/Users/ryoyajindo/daijikken/data_result')
print(csv_dirs[0])

for csv_dir in csv_dirs:
    folder_path = '/Users/ryoyajindo/daijikken/data_result/' + csv_dir
    csv_files = os.listdir(folder_path)
    print(csv_files[0])  # Or perform operations with the obtained files
    print(csv_files[3])




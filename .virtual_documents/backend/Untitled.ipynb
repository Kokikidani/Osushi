csv_file = os.listdir('/Users/ryoyajindo/daijikken/Osushi/backend/data_result')

